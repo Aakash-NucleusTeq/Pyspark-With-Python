{
  "nbformat": 4,
  "nbformat_minor": 0,
  "metadata": {
    "colab": {
      "name": "Untitled1.ipynb",
      "provenance": [],
      "collapsed_sections": [],
      "authorship_tag": "ABX9TyNYmVBOfs6U5fAcvSfQleVe",
      "include_colab_link": true
    },
    "kernelspec": {
      "name": "python3",
      "display_name": "Python 3"
    },
    "language_info": {
      "name": "python"
    }
  },
  "cells": [
    {
      "cell_type": "markdown",
      "metadata": {
        "id": "view-in-github",
        "colab_type": "text"
      },
      "source": [
        "<a href=\"https://colab.research.google.com/github/Aakash-NucleusTeq/Pyspark-With-Python/blob/main/parquetFileEx.ipynb\" target=\"_parent\"><img src=\"https://colab.research.google.com/assets/colab-badge.svg\" alt=\"Open In Colab\"/></a>"
      ]
    },
    {
      "cell_type": "code",
      "execution_count": 1,
      "metadata": {
        "id": "fz1QZy9QOnq_"
      },
      "outputs": [],
      "source": [
        "# JSON To Parquet COnversion"
      ]
    },
    {
      "cell_type": "code",
      "source": [
        "pip install pyspark"
      ],
      "metadata": {
        "colab": {
          "base_uri": "https://localhost:8080/"
        },
        "id": "pgiieyV9Otkt",
        "outputId": "5e26c876-1427-4000-aff1-a8d0e0f9f18e"
      },
      "execution_count": 3,
      "outputs": [
        {
          "output_type": "stream",
          "name": "stdout",
          "text": [
            "Collecting pyspark\n",
            "  Downloading pyspark-3.2.1.tar.gz (281.4 MB)\n",
            "\u001b[K     |████████████████████████████████| 281.4 MB 28 kB/s \n",
            "\u001b[?25hCollecting py4j==0.10.9.3\n",
            "  Downloading py4j-0.10.9.3-py2.py3-none-any.whl (198 kB)\n",
            "\u001b[K     |████████████████████████████████| 198 kB 47.8 MB/s \n",
            "\u001b[?25hBuilding wheels for collected packages: pyspark\n",
            "  Building wheel for pyspark (setup.py) ... \u001b[?25l\u001b[?25hdone\n",
            "  Created wheel for pyspark: filename=pyspark-3.2.1-py2.py3-none-any.whl size=281853642 sha256=4082b1e07c0f80b5358051b39e67d043dfbb20d1658961ea1a449b9a855a1f4d\n",
            "  Stored in directory: /root/.cache/pip/wheels/9f/f5/07/7cd8017084dce4e93e84e92efd1e1d5334db05f2e83bcef74f\n",
            "Successfully built pyspark\n",
            "Installing collected packages: py4j, pyspark\n",
            "Successfully installed py4j-0.10.9.3 pyspark-3.2.1\n"
          ]
        }
      ]
    },
    {
      "cell_type": "code",
      "source": [
        "from pyspark.sql import SparkSession"
      ],
      "metadata": {
        "id": "-pS6-aTGPIb7"
      },
      "execution_count": 4,
      "outputs": []
    },
    {
      "cell_type": "code",
      "source": [
        "spark = SparkSession.builder.getOrCreate()"
      ],
      "metadata": {
        "id": "Ujoo4ttgPPqx"
      },
      "execution_count": 5,
      "outputs": []
    },
    {
      "cell_type": "code",
      "source": [
        "df = spark.read.json(\"/content/jsondata.json\")"
      ],
      "metadata": {
        "id": "UldMHbToPV6G"
      },
      "execution_count": 7,
      "outputs": []
    },
    {
      "cell_type": "code",
      "source": [
        "df.show(5)"
      ],
      "metadata": {
        "colab": {
          "base_uri": "https://localhost:8080/"
        },
        "id": "cZAagWThPjjB",
        "outputId": "42dea8c4-5964-4950-cfe3-4c64f940818a"
      },
      "execution_count": 8,
      "outputs": [
        {
          "output_type": "stream",
          "name": "stdout",
          "text": [
            "+-------------+--------------+--------------+-----------+--------------+-----------------+--------------+--------------------+----------------+\n",
            "|customer_city|customer_email|customer_fname|customer_id|customer_lname|customer_password|customer_state|     customer_street|customer_zipcode|\n",
            "+-------------+--------------+--------------+-----------+--------------+-----------------+--------------+--------------------+----------------+\n",
            "|  Brownsville|     XXXXXXXXX|       Richard|          1|     Hernandez|        XXXXXXXXX|            TX|  6303 Heather Plaza|           78521|\n",
            "|    Littleton|     XXXXXXXXX|          Mary|          2|       Barrett|        XXXXXXXXX|            CO|9526 Noble Embers...|           80126|\n",
            "|       Caguas|     XXXXXXXXX|           Ann|          3|         Smith|        XXXXXXXXX|            PR|3422 Blue Pioneer...|           00725|\n",
            "|   San Marcos|     XXXXXXXXX|          Mary|          4|         Jones|        XXXXXXXXX|            CA|  8324 Little Common|           92069|\n",
            "|       Caguas|     XXXXXXXXX|        Robert|          5|        Hudson|        XXXXXXXXX|            PR|10 Crystal River ...|           00725|\n",
            "+-------------+--------------+--------------+-----------+--------------+-----------------+--------------+--------------------+----------------+\n",
            "only showing top 5 rows\n",
            "\n"
          ]
        }
      ]
    },
    {
      "cell_type": "code",
      "source": [
        "df.write.parquet(\"df.parquet_1\")"
      ],
      "metadata": {
        "id": "KvlHPhpDQYKu"
      },
      "execution_count": 9,
      "outputs": []
    },
    {
      "cell_type": "code",
      "source": [
        "parquetFile = spark.read.parquet(\"df.parquet_1\",inferSchema=True)"
      ],
      "metadata": {
        "id": "MoYsczJNQaV6"
      },
      "execution_count": 16,
      "outputs": []
    },
    {
      "cell_type": "code",
      "source": [
        "parquetFile.show()"
      ],
      "metadata": {
        "colab": {
          "base_uri": "https://localhost:8080/"
        },
        "id": "oZaSMJvzQpuy",
        "outputId": "b973ba3b-ff78-48e6-a438-8a98ce765014"
      },
      "execution_count": 12,
      "outputs": [
        {
          "output_type": "stream",
          "name": "stdout",
          "text": [
            "+-------------+--------------+--------------+-----------+--------------+-----------------+--------------+--------------------+----------------+\n",
            "|customer_city|customer_email|customer_fname|customer_id|customer_lname|customer_password|customer_state|     customer_street|customer_zipcode|\n",
            "+-------------+--------------+--------------+-----------+--------------+-----------------+--------------+--------------------+----------------+\n",
            "|  Brownsville|     XXXXXXXXX|       Richard|          1|     Hernandez|        XXXXXXXXX|            TX|  6303 Heather Plaza|           78521|\n",
            "|    Littleton|     XXXXXXXXX|          Mary|          2|       Barrett|        XXXXXXXXX|            CO|9526 Noble Embers...|           80126|\n",
            "|       Caguas|     XXXXXXXXX|           Ann|          3|         Smith|        XXXXXXXXX|            PR|3422 Blue Pioneer...|           00725|\n",
            "|   San Marcos|     XXXXXXXXX|          Mary|          4|         Jones|        XXXXXXXXX|            CA|  8324 Little Common|           92069|\n",
            "|       Caguas|     XXXXXXXXX|        Robert|          5|        Hudson|        XXXXXXXXX|            PR|10 Crystal River ...|           00725|\n",
            "|      Passaic|     XXXXXXXXX|          Mary|          6|         Smith|        XXXXXXXXX|            NJ|3151 Sleepy Quail...|           07055|\n",
            "|       Caguas|     XXXXXXXXX|       Melissa|          7|        Wilcox|        XXXXXXXXX|            PR|9453 High Concession|           00725|\n",
            "|     Lawrence|     XXXXXXXXX|         Megan|          8|         Smith|        XXXXXXXXX|            MA|3047 Foggy Forest...|           01841|\n",
            "|       Caguas|     XXXXXXXXX|          Mary|          9|         Perez|        XXXXXXXXX|            PR| 3616 Quaking Street|           00725|\n",
            "|     Stafford|     XXXXXXXXX|       Melissa|         10|         Smith|        XXXXXXXXX|            VA|8598 Harvest Beac...|           22554|\n",
            "|       Caguas|     XXXXXXXXX|          Mary|         11|       Huffman|        XXXXXXXXX|            PR|    3169 Stony Woods|           00725|\n",
            "|  San Antonio|     XXXXXXXXX|   Christopher|         12|         Smith|        XXXXXXXXX|            TX|5594 Jagged Ember...|           78227|\n",
            "|       Caguas|     XXXXXXXXX|          Mary|         13|       Baldwin|        XXXXXXXXX|            PR|7922 Iron Oak Gar...|           00725|\n",
            "|  Pico Rivera|     XXXXXXXXX|     Katherine|         14|         Smith|        XXXXXXXXX|            CA|5666 Hazy Pony Sq...|           90660|\n",
            "|      Fontana|     XXXXXXXXX|          Jane|         15|          Luna|        XXXXXXXXX|            CA|    673 Burning Glen|           92336|\n",
            "|       Caguas|     XXXXXXXXX|       Tiffany|         16|         Smith|        XXXXXXXXX|            PR|      6651 Iron Port|           00725|\n",
            "|       Taylor|     XXXXXXXXX|          Mary|         17|      Robinson|        XXXXXXXXX|            MI|     1325 Noble Pike|           48180|\n",
            "|     Martinez|     XXXXXXXXX|        Robert|         18|         Smith|        XXXXXXXXX|            CA|2734 Hazy Butterf...|           94553|\n",
            "|       Caguas|     XXXXXXXXX|     Stephanie|         19|      Mitchell|        XXXXXXXXX|            PR|3543 Red Treasure...|           00725|\n",
            "|West New York|     XXXXXXXXX|          Mary|         20|         Ellis|        XXXXXXXXX|            NJ|      4703 Old Route|           07093|\n",
            "+-------------+--------------+--------------+-----------+--------------+-----------------+--------------+--------------------+----------------+\n",
            "only showing top 20 rows\n",
            "\n"
          ]
        }
      ]
    },
    {
      "cell_type": "code",
      "source": [
        "parquetFile.printSchema()"
      ],
      "metadata": {
        "colab": {
          "base_uri": "https://localhost:8080/"
        },
        "id": "cMiNdGT_Q6O4",
        "outputId": "a00080e2-3e72-42a0-f1f6-1609166863e6"
      },
      "execution_count": 17,
      "outputs": [
        {
          "output_type": "stream",
          "name": "stdout",
          "text": [
            "root\n",
            " |-- customer_city: string (nullable = true)\n",
            " |-- customer_email: string (nullable = true)\n",
            " |-- customer_fname: string (nullable = true)\n",
            " |-- customer_id: string (nullable = true)\n",
            " |-- customer_lname: string (nullable = true)\n",
            " |-- customer_password: string (nullable = true)\n",
            " |-- customer_state: string (nullable = true)\n",
            " |-- customer_street: string (nullable = true)\n",
            " |-- customer_zipcode: string (nullable = true)\n",
            "\n"
          ]
        }
      ]
    }
  ]
}